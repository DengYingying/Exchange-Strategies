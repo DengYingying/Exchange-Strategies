{
 "cells": [
  {
   "cell_type": "code",
   "execution_count": 1,
   "metadata": {},
   "outputs": [],
   "source": [
    "import math\n",
    "import numpy \n",
    "import matplotlib.pyplot as pp\n",
    "from itertools import permutations\n",
    "from itertools import combinations\n",
    "from collections import deque\n",
    "import random\n",
    "import copy\n",
    "%matplotlib notebook\n",
    "import matplotlib.pyplot as pp\n",
    "from scipy.spatial import ConvexHull"
   ]
  },
  {
   "cell_type": "code",
   "execution_count": 2,
   "metadata": {},
   "outputs": [],
   "source": [
    "num_kin = 11\n",
    "location = numpy.loadtxt('location.txt')"
   ]
  },
  {
   "cell_type": "code",
   "execution_count": 3,
   "metadata": {},
   "outputs": [],
   "source": [
    "def drawLocation(location):\n",
    "    x = []\n",
    "    y = []\n",
    "    n = range(num_kin)\n",
    "    for kin in location:\n",
    "        x.append(kin[0])\n",
    "        y.append(kin[1])\n",
    "    pp.scatter(x,y)\n",
    "    for i, txt in enumerate(n):\n",
    "        pp.annotate(txt, (x[i], y[i]))\n",
    "    pp.title('Map of kindergartens in latitude and longtitude')\n",
    "    pp.xlabel('Latitude')\n",
    "    pp.ylabel('Longitude')\n",
    "    pp.show()"
   ]
  },
  {
   "cell_type": "code",
   "execution_count": 4,
   "metadata": {},
   "outputs": [
    {
     "data": {
      "image/png": "[encoded data removed]",
      "text/plain": [
       "<matplotlib.figure.Figure at 0x610df3390>"
      ]
     },
     "metadata": {},
     "output_type": "display_data"
    }
   ],
   "source": [
    "drawLocation(location)"
   ]
  },
  {
   "cell_type": "code",
   "execution_count": 5,
   "metadata": {},
   "outputs": [],
   "source": [
    "weight = [[math.inf, 21.17, 12.62, 14.48, 11.25, 11.57, 13.20, 11.17, 12.25, 5.60, 18.52],\n",
    "        [20.22, math.inf, 23.12, 15.73, 17.37, 13.98, 17.30, 14.37, 15.07, 12.08, 18.37],\n",
    "        [12.23, 22.53, math.inf, 9.05, 3.55, 10.52, 6.13, 19.02, 20.93, 8.05, 11.40],\n",
    "        [14.38, 13.35, 8.07, math.inf, 3.88, 7.42, 3.45, 18.25, 20.22, 9.82, 6.75],\n",
    "        [10.77, 16.52, 5.70, 4.57, math.inf, 6.47, 3.57, 17.45, 18.50, 8.07, 9.73],\n",
    "        [11.25, 14.42, 11.03, 8.30, 6.75, math.inf, 8.30, 15.07, 16.12, 7.08, 13.02],\n",
    "        [13.38, 15.33, 5.78, 4.13, 3.20, 7.87, math.inf, 18.55, 20.77, 10.43, 8.83],\n",
    "        [11.63, 14.22, 23.18, 21.28, 18.40, 17.00, 21.42, math.inf, 1.75, 13.27, 24.35],\n",
    "        [11.42, 14.55, 22.95, 21.00, 18.13, 16.33, 21.13, 5.85, math.inf, 12.98, 24.07],\n",
    "        [5.60, 12.05, 9.22, 10.68, 9.25, 7.92, 10.23, 11.05, 11.78, math.inf, 16.20],\n",
    "        [19.72, 15.37, 11.05, 7.03, 9.53, 12.82, 8.90, 23.25, 24.30, 15.48, math.inf]]\n",
    "\n",
    "book_unit = {0:6, 1:3, 2:5, 3:4, 4:5, 5:2, 6:3, 7:3, 8:3, 9:3, 10:3}\n",
    "\n",
    "# types WMlife has  \n",
    "type_best = ['B1', 'B2', 'B3', 'B4', 'B5', 'B6', 'B7', 'B8', 'B9']\n",
    "type_other = ['O1', 'O2', 'O3', 'O4', 'O5', 'O6', 'O7', 'O8', 'O9']"
   ]
  },
  {
   "cell_type": "markdown",
   "metadata": {},
   "source": [
    "# Finding Starting point"
   ]
  },
  {
   "cell_type": "code",
   "execution_count": 6,
   "metadata": {},
   "outputs": [
    {
     "data": {
      "text/plain": [
       "[10, 1, 8, 7, 0, 2, 6]"
      ]
     },
     "execution_count": 6,
     "metadata": {},
     "output_type": "execute_result"
    }
   ],
   "source": [
    "convex_hull = []\n",
    "hull = ConvexHull(location)\n",
    "for vertices in hull.vertices:\n",
    "    convex_hull.append(vertices)\n",
    "convex_hull"
   ]
  },
  {
   "cell_type": "markdown",
   "metadata": {},
   "source": [
    "# Clustering Kindergartens into Groups"
   ]
  },
  {
   "cell_type": "code",
   "execution_count": 7,
   "metadata": {},
   "outputs": [],
   "source": [
    "# return the next nearest point in the map for the \n",
    "# group with starting point 'start'.\n",
    "def findNearPoint(cluster, start, temp_weight):\n",
    "    min_time = -1\n",
    "    min_kin = -1\n",
    "    for j in cluster[start]:\n",
    "        temp = min(temp_weight[j])\n",
    "        if min_time == -1 or min_time > temp:\n",
    "            min_time = temp\n",
    "            min_kin = temp_weight[j].index(min(temp_weight[j]))\n",
    "            #print('next_min_kin', min_kin)\n",
    "    return(min_time, min_kin)"
   ]
  },
  {
   "cell_type": "code",
   "execution_count": 8,
   "metadata": {},
   "outputs": [],
   "source": [
    "# find the nearest group for min_kin, and return the starting point of the group.\n",
    "# and the time used to travel from nearest_start -> min_kin\n",
    "def findNearGroup(cluster, start, temp_weight, min_time, next_start, min_kin):\n",
    "    nearest_start = next_start\n",
    "    for s in start:\n",
    "        if s != next_start:\n",
    "            #print('s', s)\n",
    "            for g in cluster[s]:\n",
    "                temp = (temp_weight[g][min_kin] + temp_weight[min_kin][g]) / 2\n",
    "                if min_time == -1 or temp < min_time:\n",
    "                    min_time = temp\n",
    "                    nearest_start = s\n",
    "                    #nearest_kin = g\n",
    "    return(nearest_start, min_time) #, nearest_kin)"
   ]
  },
  {
   "cell_type": "code",
   "execution_count": 9,
   "metadata": {},
   "outputs": [],
   "source": [
    "# reassign groups that has > 6 kins\n",
    "def reassignLarge(cluster, start, temp_weight):\n",
    "    if all(len(cluster[c]) <= 6 for c in start):\n",
    "        return(cluster)\n",
    "    else:\n",
    "        for c in start:\n",
    "            # regroup cluster has more than 6 kins\n",
    "            if len(cluster[c]) > 6:\n",
    "                min_time = -1\n",
    "                min_k_regroup = -1 # the kin needs to regroup\n",
    "                min_start = -1 # the original cluster of regroup kin\n",
    "                min_near_start = -1 # the nearest starting point for min_k_regroup\n",
    "                # iterate through kin in this cluster, \n",
    "                # compare all time from min travel time from \n",
    "                # each kin to kin in other cluster \n",
    "                for k in cluster[c]:\n",
    "                    (nearest_group, \n",
    "                     local_min_time) = findNearGroup(cluster, start, \n",
    "                                                     temp_weight, \n",
    "                                                     min_time, c, k)\n",
    "                    if min_time == -1 or min_time > local_min_time:\n",
    "                        min_time = local_min_time\n",
    "                        min_k_regroup = k\n",
    "                        min_start = c\n",
    "                        min_near_start = nearest_group\n",
    "                for kin in cluster[min_start]:\n",
    "                    temp_weight[min_k_regroup][kin] = math.inf\n",
    "                    temp_weight[kin][min_k_regroup] = math.inf\n",
    "                cluster[min_start].remove(min_k_regroup)\n",
    "                cluster[min_near_start].append(min_k_regroup)\n",
    "        return(reassignLarge(cluster, start, temp_weight))"
   ]
  },
  {
   "cell_type": "code",
   "execution_count": 10,
   "metadata": {},
   "outputs": [],
   "source": [
    "def assignGroups(start, weight):\n",
    "    temp_weight = copy.deepcopy(weight)\n",
    "    cluster = {}\n",
    "    all_kin = list(range(num_kin))\n",
    "    add_on_kin = []\n",
    "    # keys are the starting point we choose\n",
    "    for k in start:\n",
    "        cluster[k] = [k]\n",
    "        all_kin.remove(k)\n",
    "        add_on_kin.append(k)\n",
    "    # all_kin is the kindergarten we have not clustered yet\n",
    "    while len(all_kin) > 0:\n",
    "        next_start_list = [k for k in cluster.keys() if len(cluster.get(k))== \n",
    "                        min([len(n) for n in cluster.values()])]\n",
    "        rand = numpy.random.randint(0, len(next_start_list))\n",
    "        next_start = next_start_list[rand]\n",
    "        (min_time, min_kin) = findNearPoint(cluster, next_start, temp_weight)\n",
    "        #print('min_kin', min_kin)\n",
    "        #print('min_time', min_time)\n",
    "        (nearest_start, \n",
    "         min_time) = findNearGroup(cluster, start, weight,\n",
    "                                   min_time, next_start, min_kin)\n",
    "                #(time, kin) = findNearGroup(cluster, s, temp_weight)\n",
    "                #if min_time > time:\n",
    "                    #min_time = time\n",
    "                    #min_kin = kin\n",
    "\n",
    "        if len(all_kin) > 0:\n",
    "            #print(min_kin)\n",
    "            #print(min_time)\n",
    "            #print('all_kin', all_kin)\n",
    "            all_kin.remove(min_kin)\n",
    "            for n in add_on_kin:\n",
    "                temp_weight[min_kin][n] = math.inf\n",
    "                temp_weight[n][min_kin] = math.inf\n",
    "            add_on_kin.append(min_kin)\n",
    "            cluster[nearest_start].append(min_kin)\n",
    "            #print(cluster)\n",
    "    return(reassignLarge(cluster, start, copy.deepcopy(weight)))"
   ]
  },
  {
   "cell_type": "code",
   "execution_count": 11,
   "metadata": {},
   "outputs": [
    {
     "name": "stdout",
     "output_type": "stream",
     "text": [
      "Cluster: {7: [7, 8, 0, 9, 1], 10: [10, 3, 6, 4, 2, 5]}\n"
     ]
    }
   ],
   "source": [
    "start_point = [7, 10]\n",
    "#temp_weight = copy.deepcopy(weight)\n",
    "cluster = assignGroups(start_point, weight)\n",
    "#cluster = reassignLarge(cluster_large_group, start_point, temp_weight)\n",
    "print('Cluster:', cluster)"
   ]
  },
  {
   "cell_type": "markdown",
   "metadata": {},
   "source": [
    "# Find Minimum Route in Clusters"
   ]
  },
  {
   "cell_type": "code",
   "execution_count": 12,
   "metadata": {},
   "outputs": [],
   "source": [
    "# Find all possible route to visit each kindergarten once\n",
    "def findAllRoute(group):\n",
    "    perm = permutations(group)\n",
    "    all_route = [] # perm_list--》all route\n",
    "    for i in perm:\n",
    "        all_route.append(i)\n",
    "    return(all_route)"
   ]
  },
  {
   "cell_type": "code",
   "execution_count": 13,
   "metadata": {},
   "outputs": [],
   "source": [
    "# input: a list of int representing the order of the tour \n",
    "# output: return the total distance traveled in the given order \n",
    "# of the tour\n",
    "def sumTour(time_weight, tour):\n",
    "    sum_tour = 0\n",
    "    temp = tour[-1]\n",
    "    for i in tour:\n",
    "        sum_tour += time_weight[temp][i]\n",
    "        temp = i\n",
    "    return int(sum_tour)"
   ]
  },
  {
   "cell_type": "code",
   "execution_count": 14,
   "metadata": {},
   "outputs": [],
   "source": [
    "# this function find the shortest tour that visits all \n",
    "# kindergartens by brute-force search it takes in a list of \n",
    "# all possible routes in an TSP problem and find the shortest \n",
    "# one among them it return and print the shortest route and \n",
    "# the shortest time under that route \n",
    "# shortest_time is the shortest time in travel_time \n",
    "def TSP_solver(time_weight, group):\n",
    "    all_route = findAllRoute(group)\n",
    "    travel_time = []\n",
    "    for i in range(len(all_route)):\n",
    "        travel_time.append(sumTour(time_weight, all_route[i]))\n",
    "    shortest_time = min(travel_time)\n",
    "    return (shortest_time, travel_time) "
   ]
  },
  {
   "cell_type": "code",
   "execution_count": 15,
   "metadata": {},
   "outputs": [],
   "source": [
    "# construct a dictionary, key: the time needed for travel, value: the tour\n",
    "# Find the shortest tours\n",
    "def shortestTours(group):\n",
    "    all_route = findAllRoute(group)\n",
    "    (shortest_time, travel_time) = TSP_solver(weight, group)\n",
    "    #print('Shortest time:',shortest_time,\"min\")\n",
    "    time_dict = {}\n",
    "    count = 0\n",
    "    for time in travel_time:\n",
    "        if time not in time_dict:\n",
    "            time_dict[time] = []\n",
    "        time_dict[time].append(all_route[count])\n",
    "        count += 1\n",
    "    shortest_tour_list = time_dict[shortest_time]\n",
    "    #print('The tour with the shortest travel time:', shortest_tour_list)\n",
    "    return(time_dict)"
   ]
  },
  {
   "cell_type": "code",
   "execution_count": 16,
   "metadata": {},
   "outputs": [],
   "source": [
    "# find kindergarten with largest book units and return a \n",
    "# interger(position of kindergarten in the list)\n",
    "def findMaxKin(group):\n",
    "    max_unit = 0\n",
    "    max_kin = -1\n",
    "    for kin in group:\n",
    "        temp = book_unit[kin]\n",
    "        if max_unit == 0 or max_unit < temp:\n",
    "            max_unit = temp\n",
    "            max_kin = kin\n",
    "    return(max_kin)"
   ]
  },
  {
   "cell_type": "code",
   "execution_count": 17,
   "metadata": {},
   "outputs": [],
   "source": [
    "# find the shortest route begin with the \n",
    "# kindergarten with largest book units\n",
    "def shortestTour(time_dict, group):\n",
    "    optimal_tour = []\n",
    "    #print(time_dict)\n",
    "    #(shortest_time, travel_time) = TSP_solver(weight, group)\n",
    "    #print(shortest_time)\n",
    "    #print(findMaxKin(group))\n",
    "    for tour in time_dict[min(time_dict)]:\n",
    "        if tour[0] == findMaxKin(group):\n",
    "            optimal_tour = tour\n",
    "    return(optimal_tour)"
   ]
  },
  {
   "cell_type": "code",
   "execution_count": 18,
   "metadata": {},
   "outputs": [
    {
     "name": "stdout",
     "output_type": "stream",
     "text": [
      "Time cost: 45 min for Tour: (0, 9, 1, 7, 8)\n",
      "Time cost: 39 min for Tour: (4, 5, 3, 10, 6, 2)\n"
     ]
    }
   ],
   "source": [
    "for start in start_point:\n",
    "    (shortest_time, travel_time) = TSP_solver(weight, cluster[start])\n",
    "    print('Time cost:', shortest_time, 'min for '\n",
    "          'Tour:', shortestTour(shortestTours(cluster[start]), cluster[start]))"
   ]
  },
  {
   "cell_type": "markdown",
   "metadata": {},
   "source": [
    "# Assign Types to Kindergartens"
   ]
  },
  {
   "cell_type": "code",
   "execution_count": 19,
   "metadata": {},
   "outputs": [],
   "source": [
    "# Add type to initial kindergarten\n",
    "# if book type <= 3, all best types, if > 3, 3 best types, \n",
    "# other types for the rest of them.\n",
    "def bookType(tour):  \n",
    "    # types WMlife has  \n",
    "    best = copy.deepcopy(deque(type_best))\n",
    "    other = copy.deepcopy(deque(type_other))\n",
    "    book_type = {}\n",
    "    for i in range(len(tour)):\n",
    "        book_type[tour[i]] = []\n",
    "        if book_unit[tour[i]] <= 3:\n",
    "            for num in range(book_unit[tour[i]]):\n",
    "                temp = best.popleft()\n",
    "                book_type[tour[i]].append(temp)\n",
    "                best.append(temp)\n",
    "        else:\n",
    "            for num in range(3):\n",
    "                temp = best.popleft()\n",
    "                book_type[tour[i]].append(temp)\n",
    "                best.append(temp)\n",
    "            for num in range(book_unit[tour[i]]-3):\n",
    "                temp = other.popleft()\n",
    "                book_type[tour[i]].append(temp)\n",
    "                other.append(temp)\n",
    "                \n",
    "    # if the last one has the same type with the first one, change them.\n",
    "    last_first_diff = set(book_type[tour[len(tour)-1]]) and set(book_type[tour[len(tour)-1]])\n",
    "    all_best_type = set(type_best)\n",
    "    all_other_type = set(type_other)\n",
    "    if len(last_first_diff) != 0 & len(tour) > 1:\n",
    "        near_type = set(book_type[tour[len(tour)-2]] + book_type[tour[0]])\n",
    "        last_first_best_diff = last_first_diff - all_best_type\n",
    "        last_first_other_diff = last_first_diff - all_other_type\n",
    "        for same in last_first_diff:\n",
    "            book_type[tour[len(tour)-1]].remove(same)\n",
    "        if len(last_first_best_diff) != 0:\n",
    "            last_kin_best_type = all_best_type - near_type    \n",
    "            for i in range(len(last_first_best_diff)):\n",
    "                book_type[tour[len(tour)-1]].append(last_kin_best_type.pop())\n",
    "        # other type repetitive\n",
    "        if len(last_first_other_diff) != 0:\n",
    "            last_kin_other_type = all_other_type - near_type\n",
    "            for i in range(len(last_first_other_diff)):\n",
    "                book_type[tour[len(tour)-1]].append(last_kin_other_type.pop())\n",
    "            \n",
    "    return(book_type)"
   ]
  },
  {
   "cell_type": "code",
   "execution_count": 20,
   "metadata": {},
   "outputs": [
    {
     "name": "stdout",
     "output_type": "stream",
     "text": [
      "{0: ['B1', 'B2', 'B3', 'O1', 'O2', 'O3'], 9: ['B4', 'B5', 'B6'], 1: ['B7', 'B8', 'B9'], 7: ['B1', 'B2', 'B3'], 8: ['B4', 'B5', 'B6']}\n",
      "{4: ['B1', 'B2', 'B3', 'O1', 'O2'], 5: ['B4', 'B5'], 3: ['B6', 'B7', 'B8', 'O3'], 10: ['B9', 'B1', 'B2'], 6: ['B3', 'B4', 'B5'], 2: ['B6', 'B7', 'B8', 'O4', 'O5']}\n"
     ]
    }
   ],
   "source": [
    "book_types = {}\n",
    "for start in start_point:\n",
    "    book_type = bookType(shortestTour(shortestTours(cluster[start]), cluster[start]))\n",
    "    print(book_type)\n",
    "    book_types.update(book_type)"
   ]
  },
  {
   "cell_type": "code",
   "execution_count": 21,
   "metadata": {},
   "outputs": [
    {
     "name": "stdout",
     "output_type": "stream",
     "text": [
      "{0: ['B1', 'B2', 'B3', 'O1', 'O2', 'O3'], 9: ['B4', 'B5', 'B6'], 1: ['B7', 'B8', 'B9'], 7: ['B1', 'B2', 'B3'], 8: ['B4', 'B5', 'B6'], 4: ['B1', 'B2', 'B3', 'O1', 'O2'], 5: ['B4', 'B5'], 3: ['B6', 'B7', 'B8', 'O3'], 10: ['B9', 'B1', 'B2'], 6: ['B3', 'B4', 'B5'], 2: ['B6', 'B7', 'B8', 'O4', 'O5']}\n"
     ]
    }
   ],
   "source": [
    "# Purchasing Book Type\n",
    "print(book_types)"
   ]
  },
  {
   "cell_type": "markdown",
   "metadata": {},
   "source": [
    "# Change Types in Clusters"
   ]
  },
  {
   "cell_type": "code",
   "execution_count": 22,
   "metadata": {},
   "outputs": [],
   "source": [
    "def changeable(k_name, kbooktype, dropoff):\n",
    "    count = 1\n",
    "    temp_set = set(dropoff)\n",
    "    count = 0\n",
    "    for i in dropoff:   \n",
    "        if len(temp_set) != len(dropoff):\n",
    "            return \"false\"       \n",
    "        elif i in kbooktype[k_name]:\n",
    "            count += 1\n",
    "    if count >= len(kbooktype)*(1-0.75):\n",
    "        return \"false\"\n",
    "    \n",
    "    return \"true\""
   ]
  },
  {
   "cell_type": "code",
   "execution_count": 23,
   "metadata": {},
   "outputs": [],
   "source": [
    "def change1(k_name, truck, kbooktype, solution):\n",
    "    if (k_name == 0) and (changeable(0, kbooktype, truck) == \"true\") : \n",
    "        solution[0] = truck\n",
    "        #print(truck)\n",
    "        #print(\"It works!\")\n",
    "        return solution\n",
    "    else:\n",
    "        #print(k_name)\n",
    "        comb_t = combinations(truck, len(kbooktype[k_name]))\n",
    "        for i in comb_t:\n",
    "            if changeable(k_name, kbooktype, i) == \"true\":\n",
    "                record_truck = copy.deepcopy(truck) \n",
    "                #print(truck)\n",
    "\n",
    "\n",
    "                truck = truck + kbooktype[k_name]\n",
    "                #print(truck)\n",
    "\n",
    "\n",
    "                solution[k_name] = i\n",
    "\n",
    "                #print(i)\n",
    "                for j in i:\n",
    "                    truck.remove(j)\n",
    "                \n",
    "                #print(truck)\n",
    "\n",
    "\n",
    "                ret = change1((k_name+1) % len(kbooktype), truck, kbooktype, solution)\n",
    "                if (ret != 0):\n",
    "                    return ret\n",
    "                \n",
    "                truck = record_truck\n",
    "                \n",
    "        return 0"
   ]
  },
  {
   "cell_type": "code",
   "execution_count": 24,
   "metadata": {},
   "outputs": [],
   "source": [
    "def changeTypeMain(group):\n",
    "    result = 0\n",
    "    allTour = copy.deepcopy(shortestTours(group))\n",
    "    while result == 0:\n",
    "        kbooktype = []\n",
    "        shortest_time = min(allTour)\n",
    "        for i in shortestTour(allTour, group):\n",
    "            kbooktype.append(book_types[i])\n",
    "        #print(kbooktype)\n",
    "        truck = kbooktype[0]\n",
    "        solution = copy.deepcopy(kbooktype)\n",
    "        result = change1(1, truck, kbooktype, solution)\n",
    "        allTour.pop(shortest_time)\n",
    "    return (result, shortest_time)"
   ]
  },
  {
   "cell_type": "code",
   "execution_count": 25,
   "metadata": {},
   "outputs": [],
   "source": [
    "def instructions():\n",
    "    print('Kindergartens are clustered into', len(start_point), 'groups')\n",
    "    for i in range(len(start_point)):\n",
    "        (reallocation, shortest_time) = changeTypeMain(cluster[start_point[i]])\n",
    "        tour = shortestTour(shortestTours(cluster[start_point[i]]), cluster[start_point[i]])\n",
    "        print('Cluster', i, ':', tour)\n",
    "        print('Truck starts from kindergarton', tour[0])\n",
    "        k = 0\n",
    "        while k != len(cluster[start_point[i]])-1:\n",
    "            print('Truck picks up', book_types[k], 'from kindergarten', tour[k])\n",
    "            k += 1\n",
    "            print('Truck travels to kindergarten', str(tour[k])+',', 'and loads off', list(reallocation[k]))\n",
    "        print('Truck picks up', book_types[k], 'from kindergarten', tour[k])\n",
    "        print('Truck travels back to kindergarten', str(tour[0])+',', 'and loads off', list(reallocation[0]))\n",
    "        print('Traveling time through all kindergartens is:', shortest_time, 'min')\n",
    "        print()"
   ]
  },
  {
   "cell_type": "code",
   "execution_count": 26,
   "metadata": {},
   "outputs": [
    {
     "name": "stdout",
     "output_type": "stream",
     "text": [
      "Kindergartens are clustered into 2 groups\n",
      "Cluster 0 : (0, 9, 1, 7, 8)\n",
      "Truck starts from kindergarton 0\n",
      "Truck picks up ['B1', 'B2', 'B3', 'O1', 'O2', 'O3'] from kindergarten 0\n",
      "Truck travels to kindergarten 9, and loads off ['B1', 'B2', 'B3']\n",
      "Truck picks up ['B7', 'B8', 'B9'] from kindergarten 9\n",
      "Truck travels to kindergarten 1, and loads off ['O1', 'O2', 'O3']\n",
      "Truck picks up ['B6', 'B7', 'B8', 'O4', 'O5'] from kindergarten 1\n",
      "Truck travels to kindergarten 7, and loads off ['B4', 'B5', 'B6']\n",
      "Truck picks up ['B6', 'B7', 'B8', 'O3'] from kindergarten 7\n",
      "Truck travels to kindergarten 8, and loads off ['B7', 'B1', 'B2']\n",
      "Truck picks up ['B1', 'B2', 'B3', 'O1', 'O2'] from kindergarten 8\n",
      "Truck travels back to kindergarten 0, and loads off ['B8', 'B9', 'B3', 'B4', 'B5', 'B6']\n",
      "Traveling time through all kindergartens is: 45 min\n",
      "\n",
      "Cluster 1 : (4, 5, 3, 10, 6, 2)\n",
      "Truck starts from kindergarton 4\n",
      "Truck picks up ['B1', 'B2', 'B3', 'O1', 'O2', 'O3'] from kindergarten 4\n",
      "Truck travels to kindergarten 5, and loads off ['B1', 'B2']\n",
      "Truck picks up ['B7', 'B8', 'B9'] from kindergarten 5\n",
      "Truck travels to kindergarten 3, and loads off ['B3', 'O1', 'O2', 'B4']\n",
      "Truck picks up ['B6', 'B7', 'B8', 'O4', 'O5'] from kindergarten 3\n",
      "Truck travels to kindergarten 10, and loads off ['B5', 'B6', 'B7']\n",
      "Truck picks up ['B6', 'B7', 'B8', 'O3'] from kindergarten 10\n",
      "Truck travels to kindergarten 6, and loads off ['B8', 'O3', 'B9']\n",
      "Truck picks up ['B1', 'B2', 'B3', 'O1', 'O2'] from kindergarten 6\n",
      "Truck travels to kindergarten 2, and loads off ['B1', 'B2', 'B3', 'B4', 'B5']\n",
      "Truck picks up ['B4', 'B5'] from kindergarten 2\n",
      "Truck travels back to kindergarten 4, and loads off ['B6', 'B7', 'B8', 'O4', 'O5']\n",
      "Traveling time through all kindergartens is: 39 min\n",
      "\n"
     ]
    }
   ],
   "source": [
    "instructions()"
   ]
  },
  {
   "cell_type": "markdown",
   "metadata": {},
   "source": [
    "# Assign Types to New Kindergartens"
   ]
  },
  {
   "cell_type": "code",
   "execution_count": 27,
   "metadata": {},
   "outputs": [],
   "source": [
    "weight = [[math.inf, 21.17, 12.62, 14.48, 11.25, 11.57, 13.20, 11.17, 12.25, 5.60, 18.52, 8.58],\n",
    "        [20.22, math.inf, 23.12, 15.73, 17.37, 13.98, 17.30, 14.37, 15.07, 12.08, 18.37, 20.32],\n",
    "        [12.23, 22.53, math.inf, 9.05, 3.55, 10.52, 6.13, 19.02, 20.93, 8.05, 11.40, 4.90],\n",
    "        [14.38, 13.35, 8.07, math.inf, 3.88, 7.42, 3.45, 18.25, 20.22, 9.82, 6.75, 10.95],\n",
    "        [10.77, 16.52, 5.70, 4.57, math.inf, 6.47, 3.57, 17.45, 18.50, 8.07, 9.73, 7.05],\n",
    "        [11.25, 14.42, 11.03, 8.30, 6.75, math.inf, 8.30, 15.07, 16.12, 7.08, 13.02, 8.83],\n",
    "        [13.38, 15.33, 5.78, 4.13, 3.20, 7.87, math.inf, 18.55, 20.77, 10.43, 8.83, 9.90],\n",
    "        [11.63, 14.22, 23.18, 21.28, 18.40, 17.00, 21.42, math.inf, 1.75, 13.27, 24.35, 18.75],\n",
    "        [11.42, 14.55, 22.95, 21.00, 18.13, 16.33, 21.13, 5.85, math.inf, 12.98, 24.07, 18.37],\n",
    "        [5.60, 12.05, 9.22, 10.68, 9.25, 7.92, 10.23, 11.05, 11.78, math.inf, 16.20, 6.90],\n",
    "        [19.72, 15.37, 11.05, 7.03, 9.53, 12.82, 8.90, 23.25, 24.30, 15.48, math.inf, 17.32],\n",
    "        [10.65, 22.55, 5.12, 9.95, 5.65, 9.62, 8.47, 17.90, 19.35, 6.83, 13.70, math.inf]]\n",
    "\n",
    "new_unit =[2]\n",
    "\n",
    "new_location = [[115.073431,30.231368]]"
   ]
  },
  {
   "cell_type": "code",
   "execution_count": 28,
   "metadata": {},
   "outputs": [
    {
     "data": {
      "text/plain": [
       "{0: 6, 1: 3, 2: 5, 3: 4, 4: 5, 5: 2, 6: 3, 7: 3, 8: 3, 9: 3, 10: 3, 11: 2}"
      ]
     },
     "execution_count": 28,
     "metadata": {},
     "output_type": "execute_result"
    }
   ],
   "source": [
    "if len(weight) != len(book_unit):\n",
    "    for i in range(len(new_unit)):\n",
    "        book_unit[num_kin+i] = new_unit[i]\n",
    "\n",
    "num_kin = len(weight)\n",
    "book_unit"
   ]
  },
  {
   "cell_type": "code",
   "execution_count": 29,
   "metadata": {},
   "outputs": [
    {
     "data": {
      "image/png": "[encoded data removed]",
      "text/plain": [
       "<matplotlib.figure.Figure at 0x619bd9518>"
      ]
     },
     "metadata": {},
     "output_type": "display_data"
    }
   ],
   "source": [
    "location = numpy.concatenate((location, new_location))\n",
    "drawLocation(location)"
   ]
  },
  {
   "cell_type": "code",
   "execution_count": 30,
   "metadata": {},
   "outputs": [
    {
     "name": "stdout",
     "output_type": "stream",
     "text": [
      "{10: [10, 3, 6, 4, 2, 5], 7: [7, 8, 0, 9, 1, 11]}\n",
      "(4, 5, 3, 10, 6, 2)\n",
      "(0, 11, 9, 1, 7, 8)\n"
     ]
    }
   ],
   "source": [
    "start_point = [10, 7]\n",
    "cluster = assignGroups(start_point, weight)\n",
    "print(cluster)\n",
    "for start in start_point:\n",
    "    print(shortestTour(shortestTours(cluster[start]), cluster[start]))"
   ]
  },
  {
   "cell_type": "code",
   "execution_count": 31,
   "metadata": {},
   "outputs": [],
   "source": [
    "def avoidNearType(near1, near2, curr):\n",
    "    all_best_type = set(type_best)\n",
    "    near_type = set(book_types[near1] +  book_types[near2])\n",
    "    new_kin_best_type = all_best_type - near_type\n",
    "\n",
    "    all_other_type = set(type_other)\n",
    "    new_kin_other_type = all_other_type - near_type\n",
    "    \n",
    "    # choose new type\n",
    "    new_kin_type = []\n",
    "    if book_unit[curr] < 3:\n",
    "        for i in range(book_unit[curr]):\n",
    "            new_kin_type.append(new_kin_best_type.pop())\n",
    "    else:\n",
    "        for i in range(3):\n",
    "            new_kin_type.append(new_kin_best_type.pop())\n",
    "        for i in range(book_unit[curr]-3):\n",
    "            new_kin_type.append(new_kin_other_type.pop())\n",
    "    return(new_kin_type)"
   ]
  },
  {
   "cell_type": "code",
   "execution_count": 32,
   "metadata": {},
   "outputs": [],
   "source": [
    "def assignAddKin(cluster):\n",
    "    for i in range(len(new_unit)):\n",
    "        for start in start_point:\n",
    "            curr = num_kin - len(new_unit) + i\n",
    "            if curr in cluster[start]:\n",
    "                tour = shortestTour(shortestTours(cluster[start]), cluster[start])\n",
    "                if tour[0] == curr:\n",
    "                    near1 = tour[-1]\n",
    "                    near2 = tour[1]\n",
    "                elif tour[-1] == curr:\n",
    "                    near1 = tour[-1]\n",
    "                    near2 = tour[0]\n",
    "                else:\n",
    "                    curr_index = tour.index(curr)\n",
    "                    near1 = tour[curr_index - 1]\n",
    "                    near2 = tour[curr_index + 1]\n",
    "                book_types[curr] = avoidNearType(near1, near2, curr)\n",
    "    return(book_types)"
   ]
  },
  {
   "cell_type": "code",
   "execution_count": 33,
   "metadata": {},
   "outputs": [
    {
     "data": {
      "text/plain": [
       "{0: ['B1', 'B2', 'B3', 'O1', 'O2', 'O3'],\n",
       " 1: ['B7', 'B8', 'B9'],\n",
       " 2: ['B6', 'B7', 'B8', 'O4', 'O5'],\n",
       " 3: ['B6', 'B7', 'B8', 'O3'],\n",
       " 4: ['B1', 'B2', 'B3', 'O1', 'O2'],\n",
       " 5: ['B4', 'B5'],\n",
       " 6: ['B3', 'B4', 'B5'],\n",
       " 7: ['B1', 'B2', 'B3'],\n",
       " 8: ['B4', 'B5', 'B6'],\n",
       " 9: ['B4', 'B5', 'B6'],\n",
       " 10: ['B9', 'B1', 'B2'],\n",
       " 11: ['B7', 'B9']}"
      ]
     },
     "execution_count": 33,
     "metadata": {},
     "output_type": "execute_result"
    }
   ],
   "source": [
    "assignAddKin(cluster)"
   ]
  },
  {
   "cell_type": "code",
   "execution_count": 34,
   "metadata": {},
   "outputs": [
    {
     "name": "stdout",
     "output_type": "stream",
     "text": [
      "Kindergartens are clustered into 2 groups\n",
      "Cluster 0 : (4, 5, 3, 10, 6, 2)\n",
      "Truck starts from kindergarton 4\n",
      "Truck picks up ['B1', 'B2', 'B3', 'O1', 'O2', 'O3'] from kindergarten 4\n",
      "Truck travels to kindergarten 5, and loads off ['B1', 'B2']\n",
      "Truck picks up ['B7', 'B8', 'B9'] from kindergarten 5\n",
      "Truck travels to kindergarten 3, and loads off ['B3', 'O1', 'O2', 'B4']\n",
      "Truck picks up ['B6', 'B7', 'B8', 'O4', 'O5'] from kindergarten 3\n",
      "Truck travels to kindergarten 10, and loads off ['B5', 'B6', 'B7']\n",
      "Truck picks up ['B6', 'B7', 'B8', 'O3'] from kindergarten 10\n",
      "Truck travels to kindergarten 6, and loads off ['B8', 'O3', 'B9']\n",
      "Truck picks up ['B1', 'B2', 'B3', 'O1', 'O2'] from kindergarten 6\n",
      "Truck travels to kindergarten 2, and loads off ['B1', 'B2', 'B3', 'B4', 'B5']\n",
      "Truck picks up ['B4', 'B5'] from kindergarten 2\n",
      "Truck travels back to kindergarten 4, and loads off ['B6', 'B7', 'B8', 'O4', 'O5']\n",
      "Traveling time through all kindergartens is: 39 min\n",
      "\n",
      "Cluster 1 : (0, 11, 9, 1, 7, 8)\n",
      "Truck starts from kindergarton 0\n",
      "Truck picks up ['B1', 'B2', 'B3', 'O1', 'O2', 'O3'] from kindergarten 0\n",
      "Truck travels to kindergarten 11, and loads off ['B1', 'B2']\n",
      "Truck picks up ['B7', 'B8', 'B9'] from kindergarten 11\n",
      "Truck travels to kindergarten 9, and loads off ['B3', 'O1', 'O2']\n",
      "Truck picks up ['B6', 'B7', 'B8', 'O4', 'O5'] from kindergarten 9\n",
      "Truck travels to kindergarten 1, and loads off ['O3', 'B7', 'B4']\n",
      "Truck picks up ['B6', 'B7', 'B8', 'O3'] from kindergarten 1\n",
      "Truck travels to kindergarten 7, and loads off ['B9', 'B5', 'B6']\n",
      "Truck picks up ['B1', 'B2', 'B3', 'O1', 'O2'] from kindergarten 7\n",
      "Truck travels to kindergarten 8, and loads off ['B7', 'B1', 'B2']\n",
      "Truck picks up ['B4', 'B5'] from kindergarten 8\n",
      "Truck travels back to kindergarten 0, and loads off ['B8', 'B9', 'B3', 'B4', 'B5', 'B6']\n",
      "Traveling time through all kindergartens is: 54 min\n",
      "\n"
     ]
    }
   ],
   "source": [
    "instructions()"
   ]
  },
  {
   "cell_type": "code",
   "execution_count": null,
   "metadata": {},
   "outputs": [],
   "source": []
  },
  {
   "cell_type": "code",
   "execution_count": null,
   "metadata": {},
   "outputs": [],
   "source": []
  }
 ],
 "metadata": {
  "kernelspec": {
   "display_name": "Python 3",
   "language": "python",
   "name": "python3"
  },
  "language_info": {
   "codemirror_mode": {
    "name": "ipython",
    "version": 3
   },
   "file_extension": ".py",
   "mimetype": "text/x-python",
   "name": "python",
   "nbconvert_exporter": "python",
   "pygments_lexer": "ipython3",
   "version": "3.6.4"
  }
 },
 "nbformat": 4,
 "nbformat_minor": 2
}
